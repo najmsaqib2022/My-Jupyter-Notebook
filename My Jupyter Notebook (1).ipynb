{
  "metadata": {
    "language_info": {
      "codemirror_mode": {
        "name": "python",
        "version": 3
      },
      "file_extension": ".py",
      "mimetype": "text/x-python",
      "name": "python",
      "nbconvert_exporter": "python",
      "pygments_lexer": "ipython3",
      "version": "3.8"
    },
    "kernelspec": {
      "name": "python",
      "display_name": "Pyolite",
      "language": "python"
    }
  },
  "nbformat_minor": 4,
  "nbformat": 4,
  "cells": [
    {
      "cell_type": "markdown",
      "source": "# My Jupyter Notebook",
      "metadata": {}
    },
    {
      "cell_type": "markdown",
      "source": "**Najm U Saqib**\n\nOperations Analyst\n",
      "metadata": {}
    },
    {
      "cell_type": "markdown",
      "source": "*I am interseted in data sceience because of its present and future scope*",
      "metadata": {}
    },
    {
      "cell_type": "markdown",
      "source": "**The code below will be simply addition of any two numbers**",
      "metadata": {}
    },
    {
      "cell_type": "code",
      "source": "a=1\nb=2\nc=a+b\nprint (c)",
      "metadata": {
        "trusted": true
      },
      "execution_count": 35,
      "outputs": [
        {
          "name": "stdout",
          "text": "3\n",
          "output_type": "stream"
        }
      ]
    },
    {
      "cell_type": "code",
      "source": "-Jaanuary\n\n",
      "metadata": {},
      "execution_count": null,
      "outputs": []
    }
  ]
}